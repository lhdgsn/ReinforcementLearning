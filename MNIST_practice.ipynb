{
 "cells": [
  {
   "cell_type": "markdown",
   "metadata": {},
   "source": [
    "see https://github.com/pytorch/examples/blob/master/mnist/main.py for an example"
   ]
  },
  {
   "cell_type": "code",
   "execution_count": 1,
   "metadata": {},
   "outputs": [],
   "source": [
    "import torch\n",
    "import torch.nn as nn\n",
    "import torch.nn.functional as F\n",
    "import torch.tensor as T\n",
    "import torch.optim as optim\n",
    "\n",
    "import torchvision\n",
    "import torchvision.transforms as transforms\n",
    "\n",
    "import numpy as np"
   ]
  },
  {
   "cell_type": "code",
   "execution_count": 19,
   "metadata": {},
   "outputs": [],
   "source": [
    "# import MNIST dataset\n",
    "mnist_train = torchvision.datasets.MNIST(root='./mnist_data', train=True, transform=transforms.ToTensor(), download=True)\n",
    "train_loader = torch.utils.data.DataLoader(mnist_train, batch_size=4, shuffle=True)\n",
    "\n",
    "mnist_test = torchvision.datasets.MNIST(root='./mnist_data', train=False, transform=transforms.ToTensor(), download=True)\n",
    "test_loader = torch.utils.data.DataLoader(mnist_test, batch_size=4, shuffle=True)"
   ]
  },
  {
   "cell_type": "markdown",
   "metadata": {},
   "source": [
    "## Torch.nn methods\n",
    "Convolution layers https://pytorch.org/docs/stable/nn.html?#convolution-layers\n",
    "\n",
    "Pooling layers https://pytorch.org/docs/stable/nn.html?#pooling-layers\n",
    "\n",
    "Padding layers https://pytorch.org/docs/stable/nn.html?#padding-layers\n",
    "\n",
    "Non-linear activations https://pytorch.org/docs/stable/nn.html?#non-linear-activations-weighted-sum-nonlinearity\n",
    "\n",
    "Normalization layers https://pytorch.org/docs/stable/nn.html?#normalization-layers\n",
    "\n",
    "Recurrent layers https://pytorch.org/docs/stable/nn.html?#normalization-layers\n",
    "\n",
    "Linear layers https://pytorch.org/docs/stable/nn.html?#linear-layers\n",
    "\n",
    "Dropout layers https://pytorch.org/docs/stable/nn.html?#dropout-layers\n",
    "\n",
    "Loss functions https://pytorch.org/docs/stable/nn.html?#loss-functions\n",
    "\n",
    "Vision layers https://pytorch.org/docs/stable/nn.html?#vision-layers\n",
    "\n"
   ]
  },
  {
   "cell_type": "code",
   "execution_count": 9,
   "metadata": {},
   "outputs": [],
   "source": [
    "# define network architecture\n",
    "class mnist_net(nn.Module):\n",
    "    def __init__(self):\n",
    "        super().__init__()\n",
    "        \n",
    "        self.layer1 = nn.Sequential(\n",
    "            nn.Conv2d(1, 16, kernel_size=5, padding=2),\n",
    "            nn.ReLU(),\n",
    "            nn.MaxPool2d(2))\n",
    "        \n",
    "        self.layer2 = nn.Sequential(\n",
    "            nn.Conv2d(16, 32, kernel_size=5, padding=2),\n",
    "            nn.ReLU(),\n",
    "            nn.MaxPool2d(2))\n",
    "        \n",
    "        self.fc = nn.Linear(7*7*32, 10)\n",
    "        \n",
    "    def forward(self, x):\n",
    "        out = self.layer1(x)\n",
    "        out = self.layer2(out)\n",
    "        out = out.view(out.size(0), -1)\n",
    "        return self.fc(out)"
   ]
  },
  {
   "cell_type": "code",
   "execution_count": 18,
   "metadata": {},
   "outputs": [
    {
     "name": "stdout",
     "output_type": "stream",
     "text": [
      "loss: 0.550874\n",
      "loss: 0.153526\n",
      "loss: 0.120307\n",
      "loss: 0.100648\n",
      "loss: 0.087962\n",
      "loss: 0.091958\n",
      "loss: 0.069458\n",
      "Done training\n"
     ]
    }
   ],
   "source": [
    "# train network\n",
    "n_epochs = 1\n",
    "\n",
    "net = mnist_net()\n",
    "\n",
    "criterion = nn.CrossEntropyLoss()\n",
    "optimizer = optim.SGD(net.parameters(), lr=0.001, momentum=0.9)\n",
    "\n",
    "for e in range(n_epochs):\n",
    "    L = 0\n",
    "    for n, (im, im_label) in enumerate(train_loader):        \n",
    "        optimizer.zero_grad()\n",
    "        \n",
    "        # forward pass through network\n",
    "        output = net(im)\n",
    "\n",
    "        loss = criterion(output, im_label)\n",
    "\n",
    "        loss.backward()\n",
    "\n",
    "        optimizer.step()\n",
    "        \n",
    "        L += loss.item()\n",
    "        if(n%2000 == 1999):\n",
    "            print('loss: %f' %(L/2000))\n",
    "            L = 0\n",
    "\n",
    "print('Done training')"
   ]
  },
  {
   "cell_type": "code",
   "execution_count": null,
   "metadata": {},
   "outputs": [],
   "source": [
    "# evaluate performance\n",
    "with torch.no_grad():\n",
    "    for im, im_label in test_loader:\n",
    "        out = net(im)\n",
    "        "
   ]
  }
 ],
 "metadata": {
  "kernelspec": {
   "display_name": "Python 3",
   "language": "python",
   "name": "python3"
  },
  "language_info": {
   "codemirror_mode": {
    "name": "ipython",
    "version": 3
   },
   "file_extension": ".py",
   "mimetype": "text/x-python",
   "name": "python",
   "nbconvert_exporter": "python",
   "pygments_lexer": "ipython3",
   "version": "3.6.4"
  }
 },
 "nbformat": 4,
 "nbformat_minor": 2
}
